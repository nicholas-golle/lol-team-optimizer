{
  "nbformat": 4,
  "nbformat_minor": 0,
  "metadata": {
    "colab": {
      "provenance": [],
      "collapsed_sections": []
    },
    "kernelspec": {
      "name": "python3",
      "display_name": "Python 3"
    },
    "language_info": {
      "name": "python"
    }
  },
  "cells": [
    {
      "cell_type": "markdown",
      "metadata": {
        "id": "header"
      },
      "source": [
        "# 🎮 League of Legends Team Optimizer\n",
        "\n",
        "This notebook provides an interactive interface for optimizing League of Legends team compositions using real player data from the Riot Games API.\n",
        "\n",
        "## Features:\n",
        "- 🔍 **Player Analysis**: Fetch champion mastery and performance data\n",
        "- 🎯 **Team Optimization**: Find optimal role assignments\n",
        "- 🏆 **Champion Recommendations**: Get champion suggestions for each role\n",
        "- 📊 **Performance Analytics**: Analyze player strengths and synergies\n",
        "\n",
        "---"
      ]
    },
    {
      "cell_type": "markdown",
      "metadata": {
        "id": "setup-header"
      },
      "source": [
        "## 🚀 Setup\n",
        "\n",
        "Run this cell first to clone the repository and set up the environment."
      ]
    },
    {
      "cell_type": "code",
      "execution_count": null,
      "metadata": {
        "id": "setup"
      },
      "outputs": [],
      "source": [
        "# Clone the repository\n",
        "!git clone https://github.com/nicholas-golle/lol-team-optimizer.git\n",
        "%cd lol-team-optimizer\n",
        "\n",
        "# Install dependencies\n",
        "!pip install -r requirements.txt\n",
        "\n",
        "# Run setup\n",
        "exec(open('colab_setup.py').read())"
      ]
    },
    {
      "cell_type": "markdown",
      "metadata": {
        "id": "api-setup-header"
      },
      "source": [
        "## 🔑 API Key Setup (Alternative)\n",
        "\n",
        "If you didn't set up your API key in the previous step, you can do it here:"
      ]
    },
    {
      "cell_type": "code",
      "execution_count": null,
      "metadata": {
        "id": "api-setup"
      },
      "outputs": [],
      "source": [
        "import os\n",
        "from getpass import getpass\n",
        "\n",
        "# Securely input your API key\n",
        "api_key = getpass(\"Enter your Riot API key (input will be hidden): \")\n",
        "\n",
        "if api_key and api_key.startswith('RGAPI-'):\n",
        "    os.environ['RIOT_API_KEY'] = api_key\n",
        "    \n",
        "    # Save to .env file\n",
        "    with open('.env', 'w') as f:\n",
        "        f.write(f'RIOT_API_KEY={api_key}\\n')\n",
        "    \n",
        "    print(\"✅ API key configured successfully!\")\n",
        "else:\n",
        "    print(\"⚠️ Invalid API key format. Expected: RGAPI-xxxxxxxx-xxxx-xxxx-xxxx-xxxxxxxxxxxx\")\n",
        "    print(\"Get your API key from: https://developer.riotgames.com/\")"
      ]
    },
    {
      "cell_type": "markdown",
      "metadata": {
        "id": "quick-start-header"
      },
      "source": [
        "## 🎯 Quick Start\n",
        "\n",
        "Test the system and run a quick demo:"
      ]
    },
    {
      "cell_type": "code",
      "execution_count": null,
      "metadata": {
        "id": "quick-start"
      },
      "outputs": [],
      "source": [
        "from colab_setup import quick_demo\n",
        "\n",
        "# Run system test\n",
        "cli = quick_demo()\n",
        "\n",
        "if cli:\n",
        "    print(\"\\n🎮 System ready! You can now use the optimizer.\")\n",
        "else:\n",
        "    print(\"\\n❌ Setup failed. Please check your API key and try again.\")"
      ]
    },
    {
      "cell_type": "markdown",
      "metadata": {
        "id": "add-players-header"
      },
      "source": [
        "## 👥 Add Players\n",
        "\n",
        "Add players to your team roster:"
      ]
    },
    {
      "cell_type": "code",
      "execution_count": null,
      "metadata": {
        "id": "add-players"
      },
      "outputs": [],
      "source": [
        "from lol_team_optimizer.cli import CLI\n",
        "from lol_team_optimizer.models import Player\n",
        "\n",
        "# Initialize CLI\n",
        "cli = CLI()\n",
        "\n",
        "def add_player_interactive():\n",
        "    \"\"\"Interactive player addition for Colab.\"\"\"\n",
        "    name = input(\"Enter player name: \").strip()\n",
        "    riot_id = input(\"Enter Riot ID (gameName#tagLine): \").strip()\n",
        "    \n",
        "    if not name or not riot_id or '#' not in riot_id:\n",
        "        print(\"❌ Invalid input. Please provide both name and Riot ID.\")\n",
        "        return\n",
        "    \n",
        "    print(f\"\\n🔍 Validating {riot_id}...\")\n",
        "    \n",
        "    try:\n",
        "        # Validate Riot ID\n",
        "        if cli.riot_client:\n",
        "            summoner_data = cli.riot_client.get_summoner_data(riot_id)\n",
        "            if summoner_data:\n",
        "                puuid = summoner_data.get('puuid', '')\n",
        "                print(f\"✅ Found player: {riot_id}\")\n",
        "                \n",
        "                # Create player with default preferences\n",
        "                player = Player(\n",
        "                    name=name,\n",
        "                    summoner_name=riot_id,\n",
        "                    puuid=puuid,\n",
        "                    role_preferences={role: 3 for role in [\"top\", \"jungle\", \"middle\", \"support\", \"bottom\"]}\n",
        "                )\n",
        "                \n",
        "                # Save player\n",
        "                players = cli.data_manager.load_player_data()\n",
        "                players.append(player)\n",
        "                cli.data_manager.save_player_data(players)\n",
        "                \n",
        "                print(f\"✅ Player '{name}' added successfully!\")\n",
        "                \n",
        "                # Fetch API data\n",
        "                fetch_data = input(\"Fetch champion mastery and performance data? (y/n): \").strip().lower()\n",
        "                if fetch_data == 'y':\n",
        "                    print(\"\\n📊 Fetching player data...\")\n",
        "                    success = cli._fetch_player_api_data(player)\n",
        "                    if success:\n",
        "                        print(\"✅ Player data populated successfully!\")\n",
        "                    else:\n",
        "                        print(\"⚠️ Some data could not be fetched.\")\n",
        "                \n",
        "            else:\n",
        "                print(f\"❌ Riot ID '{riot_id}' not found.\")\n",
        "        else:\n",
        "            print(\"❌ API not available. Cannot validate Riot ID.\")\n",
        "            \n",
        "    except Exception as e:\n",
        "        print(f\"❌ Error adding player: {e}\")\n",
        "\n",
        "# Add a player\n",
        "add_player_interactive()"
      ]
    },
    {
      "cell_type": "markdown",
      "metadata": {
        "id": "list-players-header"
      },
      "source": [
        "## 📋 View Players\n",
        "\n",
        "See all players in your roster:"
      ]
    },
    {
      "cell_type": "code",
      "execution_count": null,
      "metadata": {
        "id": "list-players"
      },
      "outputs": [],
      "source": [
        "# Load and display players\n",
        "players = cli.data_manager.load_player_data()\n",
        "\n",
        "if players:\n",
        "    print(f\"📋 Current Players ({len(players)}):\")\n",
        "    print(\"=\" * 50)\n",
        "    \n",
        "    for i, player in enumerate(players, 1):\n",
        "        print(f\"{i}. {player.name}\")\n",
        "        print(f\"   Summoner: {player.summoner_name}\")\n",
        "        print(f\"   Champions: {len(player.champion_masteries)}\")\n",
        "        print(f\"   Performance Data: {len(player.performance_cache)} roles\")\n",
        "        print(f\"   Last Updated: {player.last_updated.strftime('%Y-%m-%d %H:%M') if player.last_updated else 'Never'}\")\n",
        "        print()\nelse:\n",
        "    print(\"📭 No players found. Add some players first!\")"
      ]
    },
    {
      "cell_type": "markdown",
      "metadata": {
        "id": "optimize-header"
      },
      "source": [
        "## 🎯 Team Optimization\n",
        "\n",
        "Find the optimal team composition:"
      ]
    },
    {
      "cell_type": "code",
      "execution_count": null,
      "metadata": {
        "id": "optimize"
      },
      "outputs": [],
      "source": [
        "def optimize_team():\n",
        "    \"\"\"Run team optimization and display results.\"\"\"\n",
        "    players = cli.data_manager.load_player_data()\n",
        "    \n",
        "    if len(players) < 5:\n",
        "        print(f\"❌ Need at least 5 players for optimization. Currently have {len(players)} players.\")\n",
        "        return\n",
        "    \n",
        "    print(f\"🎯 Optimizing team composition for {len(players)} players...\")\n",
        "    \n",
        "    try:\n",
        "        # Run optimization\n",
        "        result = cli.optimizer.optimize_team(players)\n",
        "        \n",
        "        print(\"\\n\" + \"=\" * 50)\n",
        "        print(\"🏆 OPTIMAL TEAM COMPOSITION\")\n",
        "        print(\"=\" * 50)\n",
        "        \n",
        "        best = result.best_assignment\n",
        "        print(f\"Total Score: {best.total_score:.2f}\")\n",
        "        print(f\"Optimization Time: {result.optimization_time:.2f} seconds\")\n",
        "        print()\n",
        "        \n",
        "        # Display role assignments\n",
        "        print(\"Role Assignments:\")\n",
        "        print(\"-\" * 20)\n",
        "        \n",
        "        roles = [\"top\", \"jungle\", \"middle\", \"support\", \"bottom\"]\n",
        "        for role in roles:\n",
        "            player_name = best.assignments.get(role, \"Unassigned\")\n",
        "            individual_score = best.individual_scores.get(player_name, 0)\n",
        "            \n",
        "            print(f\"{role.upper():8} | {player_name:15} | Score: {individual_score:.2f}\")\n",
        "            \n",
        "            # Display champion recommendations\n",
        "            if role in best.champion_recommendations and best.champion_recommendations[role]:\n",
        "                print(f\"         | Recommended Champions:\")\n",
        "                for i, rec in enumerate(best.champion_recommendations[role][:3], 1):\n",
        "                    suitability_desc = \"Perfect\" if rec.role_suitability >= 0.9 else \"Excellent\" if rec.role_suitability >= 0.7 else \"Good\"\n",
        "                    print(f\"         |   {i}. {rec.champion_name}\")\n",
        "                    print(f\"         |      Level {rec.mastery_level} | {rec.mastery_points:,} pts | {suitability_desc}\")\n",
        "            else:\n",
        "                print(f\"         | No champion recommendations available\")\n",
        "            print()\n",
        "        \n",
        "        # Show synergies\n",
        "        if best.synergy_scores:\n",
        "            print(\"Key Synergies:\")\n",
        "            print(\"-\" * 15)\n",
        "            sorted_synergies = sorted(best.synergy_scores.items(), key=lambda x: x[1], reverse=True)\n",
        "            for (player1, player2), synergy in sorted_synergies[:3]:\n",
        "                print(f\"  {player1} + {player2}: {synergy:.2f}\")\n",
        "            print()\n",
        "        \n",
        "        return result\n",
        "        \n",
        "    except Exception as e:\n",
        "        print(f\"❌ Optimization failed: {e}\")\n",
        "        return None\n",
        "\n",
        "# Run optimization\n",
        "optimization_result = optimize_team()"
      ]
    },
    {
      "cell_type": "markdown",
      "metadata": {
        "id": "player-analysis-header"
      },
      "source": [
        "## 📊 Player Analysis\n",
        "\n",
        "Analyze individual player data:"
      ]
    },
    {
      "cell_type": "code",
      "execution_count": null,
      "metadata": {
        "id": "player-analysis"
      },
      "outputs": [],
      "source": [
        "def analyze_player():\n",
        "    \"\"\"Analyze a specific player's data.\"\"\"\n",
        "    players = cli.data_manager.load_player_data()\n",
        "    \n",
        "    if not players:\n",
        "        print(\"📭 No players found.\")\n",
        "        return\n",
        "    \n",
        "    print(\"Select player to analyze:\")\n",
        "    for i, player in enumerate(players, 1):\n",
        "        print(f\"{i}. {player.name} ({player.summoner_name})\")\n",
        "    \n",
        "    try:\n",
        "        choice = int(input(\"\\nEnter player number: \")) - 1\n",
        "        if 0 <= choice < len(players):\n",
        "            player = players[choice]\n",
        "            \n",
        "            print(f\"\\n\" + \"=\" * 40)\n",
        "            print(f\"📊 PLAYER ANALYSIS: {player.name.upper()}\")\n",
        "            print(\"=\" * 40)\n",
        "            \n",
        "            print(f\"Name: {player.name}\")\n",
        "            print(f\"Summoner: {player.summoner_name}\")\n",
        "            print(f\"Last Updated: {player.last_updated.strftime('%Y-%m-%d %H:%M') if player.last_updated else 'Never'}\")\n",
        "            \n",
        "            # Role preferences\n",
        "            print(f\"\\nRole Preferences:\")\n",
        "            print(\"-\" * 20)\n",
        "            sorted_prefs = sorted(player.role_preferences.items(), key=lambda x: x[1], reverse=True)\n",
        "            for role, pref in sorted_prefs:\n",
        "                stars = \"★\" * pref + \"☆\" * (5 - pref)\n",
        "                print(f\"{role.capitalize():8} | {stars} ({pref}/5)\")\n",
        "            \n",
        "            # Champion mastery\n",
        "            if player.champion_masteries:\n",
        "                print(f\"\\nTop Champions:\")\n",
        "                print(\"-\" * 15)\n",
        "                top_champs = sorted(player.champion_masteries.values(), key=lambda x: x.mastery_points, reverse=True)[:5]\n",
        "                for i, champ in enumerate(top_champs, 1):\n",
        "                    roles_str = \", \".join(champ.primary_roles) if champ.primary_roles else \"Flexible\"\n",
        "                    print(f\"{i}. {champ.champion_name} ({roles_str})\")\n",
        "                    print(f\"   Level {champ.mastery_level} | {champ.mastery_points:,} points\")\n",
        "            \n",
        "            # Performance data\n",
        "            if player.performance_cache:\n",
        "                print(f\"\\nPerformance Data:\")\n",
        "                print(\"-\" * 18)\n",
        "                for role, perf in player.performance_cache.items():\n",
        "                    if isinstance(perf, dict):\n",
        "                        wr = perf.get('win_rate', 0) * 100\n",
        "                        matches = perf.get('matches_played', 0)\n",
        "                        kda = perf.get('avg_kda', 0)\n",
        "                        print(f\"{role.capitalize()}: {wr:.1f}% WR over {matches} games (KDA: {kda:.1f})\")\n",
        "            \n",
        "        else:\n",
        "            print(\"❌ Invalid selection.\")\n",
        "            \n",
        "    except (ValueError, IndexError):\n",
        "        print(\"❌ Invalid input.\")\n",
        "\n",
        "# Analyze a player\n",
        "analyze_player()"
      ]
    },
    {
      "cell_type": "markdown",
      "metadata": {
        "id": "full-cli-header"
      },
      "source": [
        "## 🖥️ Full CLI Interface\n",
        "\n",
        "Run the complete CLI interface (note: this will be interactive):"
      ]
    },
    {
      "cell_type": "code",
      "execution_count": null,
      "metadata": {
        "id": "full-cli"
      },
      "outputs": [],
      "source": [
        "# WARNING: This will start the full interactive CLI\n",
        "# It may not work well in Colab due to input limitations\n",
        "# Use the individual cells above for better Colab experience\n",
        "\n",
        "print(\"⚠️ Starting full CLI interface...\")\n",
        "print(\"Note: This may not work well in Colab. Use individual cells above for better experience.\")\n",
        "print(\"Press Ctrl+C to interrupt if needed.\")\n",
        "\n",
        "# Uncomment the next line to run the full CLI\n",
        "# cli.main()"
      ]
    },
    {
      "cell_type": "markdown",
      "metadata": {
        "id": "tips-header"
      },
      "source": [
        "## 💡 Tips for Google Colab\n",
        "\n",
        "1. **API Key Security**: Your API key is stored in the session and `.env` file. It will be lost when the runtime restarts.\n",
        "\n",
        "2. **Data Persistence**: Player data is saved to the `data/` directory. Download it if you want to keep it.\n",
        "\n",
        "3. **Rate Limits**: Be mindful of API rate limits (120 requests per 2 minutes for development keys).\n",
        "\n",
        "4. **Interactive Elements**: Some CLI features may not work perfectly in Colab. Use the individual cells above.\n",
        "\n",
        "5. **Restart Runtime**: If you encounter issues, try restarting the runtime and running the setup cell again.\n",
        "\n",
        "---\n",
        "\n",
        "**Need help?** Check the [API Setup Guide](https://github.com/YOUR_USERNAME/lol-team-optimizer/blob/main/API_SETUP.md) for detailed instructions."
      ]
    }
  ]
}
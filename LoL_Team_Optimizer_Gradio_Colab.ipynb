{
  "nbformat": 4,
  "nbformat_minor": 0,
  "metadata": {
    "colab": {
      "provenance": [],
      "collapsed_sections": [],
      "include_colab_link": true
    },
    "kernelspec": {
      "name": "python3",
      "display_name": "Python 3"
    },
    "language_info": {
      "name": "python"
    }
  },
  "cells": [
    {
      "cell_type": "markdown",
      "metadata": {
        "id": "view-in-github",
        "colab_type": "text"
      },
      "source": [
        "<a href=\"https://colab.research.google.com/github/yourusername/lol-team-optimizer/blob/main/LoL_Team_Optimizer_Gradio_Colab.ipynb\" target=\"_parent\"><img src=\"https://colab.research.google.com/assets/colab-badge.svg\" alt=\"Open In Colab\"/></a>"
      ]
    },
    {
      "cell_type": "markdown",
      "metadata": {
        "id": "title"
      },
      "source": [
        "# 🎮 League of Legends Team Optimizer - Gradio Web UI\n",
        "\n",
        "Welcome to the **League of Legends Team Optimizer** with a modern Gradio web interface! This notebook provides a comprehensive platform for analyzing your LoL gameplay with an intuitive web UI.\n",
        "\n",
        "## ✨ New Gradio Web Interface Features:\n",
        "- 🖥️ **Interactive Web UI**: Beautiful, user-friendly interface\n",
        "- 📊 **Real-time Charts**: Dynamic visualizations of your performance\n",
        "- 🎯 **Easy Navigation**: Tabbed interface for different features\n",
        "- 📱 **Mobile Friendly**: Works on any device\n",
        "- 🔗 **Shareable**: Get a public URL to share with your team\n",
        "- ⚡ **Real-time Updates**: Live data refresh and analysis\n",
        "\n",
        "## 🚀 Core Features\n",
        "- 📊 **Advanced Analytics**: Detailed performance analysis with statistical insights\n",
        "- 🎯 **Champion Recommendations**: AI-powered suggestions based on your playstyle\n",
        "- 👥 **Team Composition Analysis**: Optimize your team synergy and strategy\n",
        "- 📈 **Performance Tracking**: Monitor improvement over time\n",
        "- 🔍 **Match History Analysis**: Deep dive into your match data\n",
        "- 📥 **Match Extraction**: Automated data collection from Riot API\n",
        "\n",
        "## 🎯 Getting Started\n",
        "1. **Run Setup**: Execute the installation and setup cells below\n",
        "2. **Configure API**: Set your Riot API key\n",
        "3. **Launch Interface**: Start the Gradio web UI\n",
        "4. **Add Players**: Use the web interface to add your team\n",
        "5. **Extract Data**: Pull match history from Riot API\n",
        "6. **Analyze & Optimize**: Get insights and recommendations!\n",
        "\n",
        "---"
      ]
    },
    {
      "cell_type": "markdown",
      "metadata": {
        "id": "setup-header"
      },
      "source": [
        "## 📦 Installation & Setup\n",
        "\n",
        "First, let's install all required dependencies and set up the environment:"
      ]
    },
    {
      "cell_type": "code",
      "execution_count": null,
      "metadata": {
        "id": "install-dependencies"
      },
      "outputs": [],
      "source": [
        "# Install required packages\n",
        "print(\"📦 Installing required packages...\")\n",
        "!pip install -q gradio plotly pandas requests python-dotenv\n",
        "!pip install -q nest-asyncio  # For Colab compatibility\n",
        "\n",
        "# Clone the repository (if not already available)\n",
        "import os\n",
        "import sys\n",
        "\n",
        "# Check if we're in the right directory\n",
        "if not os.path.exists('lol_team_optimizer') and not os.path.exists('gradio_ui.py'):\n",
        "    print(\"📥 Cloning LoL Team Optimizer repository...\")\n",
        "    # Update this URL to your actual repository\n",
        "    !git clone https://github.com/nicholas-golle/lol-team-optimizer.git .\n",
        "    \n",
        "    # Verify the clone was successful\n",
        "    if os.path.exists('lol_team_optimizer') and os.path.exists('gradio_ui.py'):\n",
        "        print(\"✅ Repository cloned successfully\")\n",
        "    else:\n",
        "        print(\"❌ Repository clone may have failed\")\n",
        "        print(\"📁 Current directory contents:\")\n",
        "        !ls -la\n",
        "else:\n",
        "    print(\"✅ Repository already available\")\n",
        "\n",
        "# Verify key files exist\n",
        "required_files = ['gradio_ui.py', 'lol_team_optimizer/', 'launch_gradio.py']\n",
        "missing_files = []\n",
        "\n",
        "for file in required_files:\n",
        "    if os.path.exists(file):\n",
        "        print(f\"✅ Found {file}\")\n",
        "    else:\n",
        "        print(f\"❌ Missing {file}\")\n",
        "        missing_files.append(file)\n",
        "\n",
        "if missing_files:\n",
        "    print(f\"⚠️ Warning: {len(missing_files)} required files are missing\")\n",
        "    print(\"This may cause issues when launching the interface.\")\n",
        "\n",
        "# Import required modules\n",
        "import nest_asyncio\n",
        "import warnings\n",
        "\n",
        "# Enable nested event loops for Colab\n",
        "nest_asyncio.apply()\n",
        "\n",
        "# Suppress warnings for cleaner output\n",
        "warnings.filterwarnings('ignore')\n",
        "\n",
        "# Add current directory to Python path\n",
        "if os.getcwd() not in sys.path:\n",
        "    sys.path.append(os.getcwd())\n",
        "\n",
        "print(\"🎉 Setup complete! Ready to launch the interface.\")\n",
        "print(f\"📁 Working directory: {os.getcwd()}\")"
      ]
    },
    {
      "cell_type": "markdown",
      "metadata": {
        "id": "api-config-header"
      },
      "source": [
        "## 🔑 API Configuration\n",
        "\n",
        "Configure your Riot API key to enable match data extraction:"
      ]
    },
    {
      "cell_type": "code",
      "execution_count": null,
      "metadata": {
        "id": "api-config"
      },
      "outputs": [],
      "source": [
        "import os\n",
        "from getpass import getpass\n",
        "\n",
        "# Set up Riot API key\n",
        "print(\"🔑 Riot API Key Configuration\")\n",
        "print(\"Get your API key from: https://developer.riotgames.com/\")\n",
        "print(\"\")\n",
        "\n",
        "# Check if API key is already set\n",
        "if os.getenv('RIOT_API_KEY'):\n",
        "    print(\"✅ API key already configured\")\n",
        "    use_existing = input(\"Use existing API key? (y/n): \").lower().strip()\n",
        "    if use_existing != 'y':\n",
        "        api_key = getpass(\"Enter your Riot API key: \")\n",
        "        os.environ['RIOT_API_KEY'] = api_key\n",
        "else:\n",
        "    api_key = getpass(\"Enter your Riot API key: \")\n",
        "    os.environ['RIOT_API_KEY'] = api_key\n",
        "\n",
        "# Verify API key is set\n",
        "if os.getenv('RIOT_API_KEY'):\n",
        "    print(\"✅ API key configured successfully!\")\n",
        "    print(\"🚀 Ready to launch the interface!\")\n",
        "else:\n",
        "    print(\"❌ API key not set. Some features may not work.\")"
      ]
    },
    {
      "cell_type": "markdown",
      "metadata": {
        "id": "launch-header"
      },
      "source": [
        "## 🚀 Launch Gradio Interface\n",
        "\n",
        "Run this cell to start the interactive web interface:"
      ]
    },
    {
      "cell_type": "code",
      "execution_count": null,
      "metadata": {
        "id": "launch-interface"
      },
      "outputs": [],
      "source": [
        "# Import and launch the Gradio UI\n",
        "import sys\n",
        "import os\n",
        "import importlib.util\n",
        "\n",
        "# Add the project directory to Python path\n",
        "if os.getcwd() not in sys.path:\n",
        "    sys.path.append(os.getcwd())\n",
        "\n",
        "# Check if gradio_ui.py exists\n",
        "gradio_ui_path = os.path.join(os.getcwd(), 'gradio_ui.py')\n",
        "if not os.path.exists(gradio_ui_path):\n",
        "    print(f\"❌ gradio_ui.py not found at: {gradio_ui_path}\")\n",
        "    print(\"📁 Current directory contents:\")\n",
        "    for item in os.listdir(os.getcwd()):\n",
        "        if item.endswith('.py') or os.path.isdir(item):\n",
        "            print(f\"   {item}\")\n",
        "    print(\"\")\n",
        "    print(\"🔧 Please ensure the repository was cloned correctly.\")\n",
        "else:\n",
        "    print(f\"✅ Found gradio_ui.py at: {gradio_ui_path}\")\n",
        "\n",
        "# Import the Gradio UI\n",
        "try:\n",
        "    # Try direct import first\n",
        "    try:\n",
        "        from gradio_ui import GradioUI, launch_ui\n",
        "        print(\"✅ Successfully imported GradioUI and launch_ui\")\n",
        "    except ImportError:\n",
        "        # Try importing the module directly\n",
        "        spec = importlib.util.spec_from_file_location(\"gradio_ui\", gradio_ui_path)\n",
        "        gradio_ui_module = importlib.util.module_from_spec(spec)\n",
        "        spec.loader.exec_module(gradio_ui_module)\n",
        "        \n",
        "        GradioUI = gradio_ui_module.GradioUI\n",
        "        launch_ui = gradio_ui_module.launch_ui\n",
        "        print(\"✅ Successfully imported via importlib\")\n",
        "    \n",
        "    print(\"🎮 Launching LoL Team Optimizer Web Interface...\")\n",
        "    print(\"\")\n",
        "    print(\"📱 Features available in the web interface:\")\n",
        "    print(\"   👥 Player Management - Add and manage your team players\")\n",
        "    print(\"   📥 Match Extraction - Pull match data from Riot API\")\n",
        "    print(\"   📊 Analytics - Detailed performance analysis with charts\")\n",
        "    print(\"   🎯 Champion Recommendations - AI-powered champion suggestions\")\n",
        "    print(\"   👥 Team Composition - Analyze team synergy and optimization\")\n",
        "    print(\"\")\n",
        "    print(\"🔗 The interface will provide a public URL you can share!\")\n",
        "    print(\"\")\n",
        "    \n",
        "    # Launch with sharing enabled for Colab\n",
        "    launch_ui(share=True, server_port=7860)\n",
        "    \n",
        "except ImportError as e:\n",
        "    print(f\"❌ Error importing Gradio UI: {e}\")\n",
        "    print(\"\")\n",
        "    print(\"🔧 Troubleshooting:\")\n",
        "    print(\"1. Make sure all dependencies are installed\")\n",
        "    print(\"2. Verify the repository was cloned correctly\")\n",
        "    print(\"3. Check that gradio_ui.py exists in the current directory\")\n",
        "    print(\"4. Ensure lol_team_optimizer package is available\")\n",
        "    \n",
        "    # Show more detailed error information\n",
        "    print(\"\")\n",
        "    print(\"🔍 Detailed error information:\")\n",
        "    import traceback\n",
        "    traceback.print_exc()\n",
        "    \n",
        "    # Try to create a minimal interface as fallback\n",
        "    print(\"\")\n",
        "    print(\"🔄 Attempting to create fallback interface...\")\n",
        "    \n",
        "    try:\n",
        "        import gradio as gr\n",
        "        \n",
        "        def fallback_interface():\n",
        "            return \"LoL Team Optimizer - Fallback mode. Please check the setup and try again.\"\n",
        "        \n",
        "        with gr.Blocks(title=\"LoL Team Optimizer - Fallback\") as demo:\n",
        "            gr.Markdown(\"# 🎮 LoL Team Optimizer - Fallback Mode\")\n",
        "            gr.Markdown(\"\"\"There was an issue loading the full interface. \n",
        "            \n",
        "            **Common solutions:**\n",
        "            1. Restart the runtime and re-run all cells\n",
        "            2. Check that the repository was cloned correctly\n",
        "            3. Verify all dependencies are installed\n",
        "            4. Make sure your API key is configured\n",
        "            \"\"\")\n",
        "            \n",
        "            gr.Button(\"Retry Setup\", variant=\"primary\")\n",
        "            \n",
        "        demo.launch(share=True, server_port=7860)\n",
        "        \n",
        "    except Exception as fallback_error:\n",
        "        print(f\"❌ Fallback interface also failed: {fallback_error}\")\n",
        "        print(\"Please check the installation steps and try again.\")\n",
        "\n",
        "except Exception as e:\n",
        "    print(f\"❌ Unexpected error: {e}\")\n",
        "    import traceback\n",
        "    traceback.print_exc()"
      ]
    },
    {
      "cell_type": "markdown",
      "metadata": {
        "id": "usage-header"
      },
      "source": [
        "## 📖 Usage Instructions\n",
        "\n",
        "Once the interface is launched, follow these steps:\n",
        "\n",
        "### 1. 👥 Player Management\n",
        "- Click on the **\"Player Management\"** tab\n",
        "- Add your team players with their Riot IDs\n",
        "- Select the correct region for each player\n",
        "\n",
        "### 2. 📥 Match Extraction\n",
        "- Go to the **\"Match Extraction\"** tab\n",
        "- Select a player from the dropdown\n",
        "- Choose how many days of match history to extract\n",
        "- Click **\"Extract Matches\"** to pull data from Riot API\n",
        "\n",
        "### 3. 📊 Analytics\n",
        "- Navigate to the **\"Analytics\"** tab\n",
        "- Select a player and analysis period\n",
        "- View detailed performance metrics and charts\n",
        "- Analyze champion performance and trends\n",
        "\n",
        "### 4. 🎯 Champion Recommendations\n",
        "- Use the **\"Champion Recommendations\"** tab\n",
        "- Select a player and role\n",
        "- Get AI-powered champion suggestions\n",
        "- View recommendation scores and reasoning\n",
        "\n",
        "### 5. 👥 Team Composition\n",
        "- Go to the **\"Team Composition\"** tab\n",
        "- Select multiple players for your team\n",
        "- Analyze team synergy and performance\n",
        "- Get optimization recommendations\n",
        "\n",
        "---"
      ]
    },
    {
      "cell_type": "markdown",
      "metadata": {
        "id": "features-header"
      },
      "source": [
        "## 🎯 Advanced Features\n",
        "\n",
        "The Gradio interface provides several advanced features:"
      ]
    },
    {
      "cell_type": "markdown",
      "metadata": {
        "id": "features-content"
      },
      "source": [
        "### 📊 Interactive Charts\n",
        "- **Performance Radar Charts**: Visual representation of key metrics\n",
        "- **Champion Win Rate Charts**: Bar charts showing champion performance\n",
        "- **Trend Analysis**: Time-series analysis of performance over time\n",
        "- **Comparative Analysis**: Side-by-side player comparisons\n",
        "\n",
        "### 🎯 Smart Recommendations\n",
        "- **AI-Powered Suggestions**: Machine learning-based champion recommendations\n",
        "- **Role-Specific Analysis**: Tailored recommendations for each position\n",
        "- **Meta Awareness**: Recommendations based on current patch and meta\n",
        "- **Confidence Scoring**: Reliability indicators for each recommendation\n",
        "\n",
        "### 👥 Team Optimization\n",
        "- **Synergy Analysis**: Identify player combinations that work well together\n",
        "- **Composition Scoring**: Rate team compositions for effectiveness\n",
        "- **Role Assignment**: Optimal role assignments for your team\n",
        "- **Counter-Pick Analysis**: Strategies against common enemy compositions\n",
        "\n",
        "### 📈 Performance Tracking\n",
        "- **Historical Trends**: Track improvement over time\n",
        "- **Baseline Comparisons**: Compare current performance to historical averages\n",
        "- **Statistical Significance**: Confidence intervals and significance testing\n",
        "- **Goal Setting**: Set and track performance targets\n",
        "\n",
        "### 🔧 Customization Options\n",
        "- **Flexible Time Periods**: Analyze any date range\n",
        "- **Filter Options**: Focus on specific champions, roles, or game types\n",
        "- **Export Capabilities**: Download analysis results and charts\n",
        "- **Sharing Features**: Share analysis with team members"
      ]
    },
    {
      "cell_type": "markdown",
      "metadata": {
        "id": "troubleshooting-header"
      },
      "source": [
        "## 🔧 Troubleshooting\n",
        "\n",
        "If you encounter issues, try these solutions:"
      ]
    },
    {
      "cell_type": "markdown",
      "metadata": {
        "id": "troubleshooting-content"
      },
      "source": [
        "### Common Issues:\n",
        "\n",
        "**1. Interface won't load**\n",
        "- Restart the runtime (Runtime → Restart runtime)\n",
        "- Re-run all cells from the beginning\n",
        "- Check that all dependencies installed successfully\n",
        "\n",
        "**2. API key issues**\n",
        "- Verify your API key is valid at https://developer.riotgames.com/\n",
        "- Make sure you're using a production API key (not development)\n",
        "- Check that the API key hasn't expired\n",
        "\n",
        "**3. Match extraction fails**\n",
        "- Verify player names and regions are correct\n",
        "- Check API rate limits (you may need to wait)\n",
        "- Ensure players have recent match history\n",
        "\n",
        "**4. Analytics not working**\n",
        "- Make sure match data has been extracted first\n",
        "- Check that players have sufficient match history (10+ games recommended)\n",
        "- Verify the analysis period includes matches\n",
        "\n",
        "**5. Charts not displaying**\n",
        "- Refresh the interface\n",
        "- Check browser console for JavaScript errors\n",
        "- Try a different browser or incognito mode\n",
        "\n",
        "### Getting Help:\n",
        "- Check the error messages in the interface\n",
        "- Look at the Colab output for detailed error information\n",
        "- Refer to the project documentation\n",
        "- Report issues on the project GitHub repository"
      ]
    },
    {
      "cell_type": "markdown",
      "metadata": {
        "id": "manual-testing-header"
      },
      "source": [
        "## 🧪 Manual Testing (Optional)\n",
        "\n",
        "If you want to test the core functionality without the web interface:"
      ]
    },
    {
      "cell_type": "code",
      "execution_count": null,
      "metadata": {
        "id": "manual-testing"
      },
      "outputs": [],
      "source": [
        "# Optional: Test core functionality manually\n",
        "try:\n",
        "    from lol_team_optimizer.core_engine import CoreEngine\n",
        "    from lol_team_optimizer.models import Player\n",
        "    \n",
        "    # Initialize engine\n",
        "    engine = CoreEngine()\n",
        "    print(\"✅ Core engine initialized successfully\")\n",
        "    \n",
        "    # Test player management\n",
        "    players = engine.data_manager.load_player_data()\n",
        "    print(f\"📊 Found {len(players)} existing players\")\n",
        "    \n",
        "    # Test analytics availability\n",
        "    if engine.analytics_available:\n",
        "        print(\"✅ Analytics engine available\")\n",
        "    else:\n",
        "        print(\"⚠️ Analytics engine not available\")\n",
        "    \n",
        "    print(\"🎉 Core functionality test complete!\")\n",
        "    \n",
        "except Exception as e:\n",
        "    print(f\"❌ Core functionality test failed: {e}\")\n",
        "    import traceback\n",
        "    traceback.print_exc()"
      ]
    },
    {
      "cell_type": "markdown",
      "metadata": {
        "id": "footer"
      },
      "source": [
        "---\n",
        "\n",
        "## 🎮 LoL Team Optimizer - Gradio Web Interface\n",
        "\n",
        "**Advanced Analytics & Team Optimization Platform**\n",
        "\n",
        "- 🌟 **Modern Web UI**: Built with Gradio for the best user experience\n",
        "- 📊 **Advanced Analytics**: Statistical analysis with confidence intervals\n",
        "- 🎯 **AI Recommendations**: Machine learning-powered champion suggestions\n",
        "- 👥 **Team Optimization**: Synergy analysis and composition optimization\n",
        "- 📱 **Mobile Friendly**: Works on any device with a web browser\n",
        "- 🔗 **Shareable**: Get public URLs to share with your team\n",
        "\n",
        "For support, documentation, or to contribute to the project, visit the GitHub repository.\n",
        "\n",
        "**Happy optimizing! 🚀**"
      ]
    }
  ]
}